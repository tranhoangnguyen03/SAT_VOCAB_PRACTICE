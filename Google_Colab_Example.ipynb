{
  "nbformat": 4,
  "nbformat_minor": 0,
  "metadata": {
    "colab": {
      "name": "Practice Review Week 1-3.ipynb",
      "provenance": [],
      "collapsed_sections": [
        "gdpA71_ve8tH",
        "xG_H7ICB2vGQ",
        "X7NtZTocyp8P"
      ]
    },
    "kernelspec": {
      "name": "python3",
      "display_name": "Python 3"
    }
  },
  "cells": [
    {
      "cell_type": "markdown",
      "metadata": {
        "id": "7Cv2hr8xlSyo",
        "colab_type": "text"
      },
      "source": [
        "##Settings"
      ]
    },
    {
      "cell_type": "code",
      "metadata": {
        "id": "S30FHrV2ZuKw",
        "colab_type": "code",
        "colab": {}
      },
      "source": [
        "import os, requests, re, time, datetime, pandas_gbq, getpass\n",
        "if not os.path.isfile('key.json'): os.system('wget -O key.json https://storage.googleapis.com/props.davidustranus.space/SAT_VOCAB_TEST.json')\n",
        "os.system(\"gcloud auth activate-service-account --key-file='key.json'\")\n",
        "os.system('git clone https://github.com/tranhoangnguyen03/SAT_VOCAB_PRACTICE.git')\n",
        "import numpy as np\n",
        "import pandas as pd\n",
        "from google.oauth2 import service_account\n",
        "from IPython.display import clear_output\n",
        "from SAT_VOCAB_PRACTICE.Navigation import Navigation_simple\n",
        "from SAT_VOCAB_PRACTICE.Triplets_generator import MainEngine"
      ],
      "execution_count": 0,
      "outputs": []
    },
    {
      "cell_type": "markdown",
      "metadata": {
        "id": "XiULzxzFhVAs",
        "colab_type": "text"
      },
      "source": [
        "### Main"
      ]
    },
    {
      "cell_type": "code",
      "metadata": {
        "id": "Y-T1VOu9yvbA",
        "colab_type": "code",
        "outputId": "c0d989f8-f573-48d3-c002-c98b6971ffaa",
        "colab": {
          "base_uri": "https://localhost:8080/",
          "height": 100
        }
      },
      "source": [
        "#@markdown LOGIN\n",
        "Program = Navigation_simple(MainEngine('vocab_SAT_1-150.txt'))\n",
        "Login_or_CreateNew = \"Login\" #@param [\"Login\", \"Create_New_Account\"]\n",
        "Username = \"DDawg\" #@param {type:\"string\"}\n",
        "Program.Start(Username, Login_or_CreateNew)"
      ],
      "execution_count": 2,
      "outputs": [
        {
          "output_type": "stream",
          "text": [
            "please input password ->··········\n"
          ],
          "name": "stdout"
        },
        {
          "output_type": "stream",
          "text": [
            "1it [00:06,  6.74s/it]\n"
          ],
          "name": "stderr"
        },
        {
          "output_type": "stream",
          "text": [
            "\\0/\\0/\\0/-Login Success!-\\0/\\0/\\0/\n",
            "--------------------------------------------------------------------------------\n",
            "                    Practice or Test your vocabs below!\n"
          ],
          "name": "stdout"
        }
      ]
    },
    {
      "cell_type": "code",
      "metadata": {
        "id": "ohqr-d_KIIrP",
        "colab_type": "code",
        "outputId": "fc11a121-a337-4ce3-9d20-130fc56a5acf",
        "colab": {
          "base_uri": "https://localhost:8080/",
          "height": 468
        },
        "cellView": "both"
      },
      "source": [
        "#@markdown RUN\n",
        "Practice_or_Test = \"Practice\" #@param [\"Practice\", \"Test\"]\n",
        "Program.Run(Practice_or_Test)"
      ],
      "execution_count": 3,
      "outputs": [
        {
          "output_type": "stream",
          "text": [
            "\n",
            "********************************************************\n",
            "REMINDER: YOU CAN TYPE DONE or QUIT to exit the program\n",
            "********************************************************\n",
            "\n",
            "\u001b[4m\u001b[1mYour word-triplet\u001b[0m:\n",
            "\u001b[1mINHERENT\u001b[0m (adjective) - Existing in something as a permanent, essential, or characteristic attribute.\n",
            "    EXAMPLE: any form of mountaineering has its \u001b[92minherent\u001b[0m dangers\n",
            "    Synonyms: ['intrinsic', 'innate', 'immanent', 'built-in', 'inborn']\n",
            "              ----------------------\n",
            "\u001b[1mREFUTE\u001b[0m (verb) - Prove (a statement or theory) to be wrong or false; disprove.\n",
            "    EXAMPLE: these claims have not been convincingly \u001b[92mrefute\u001b[0md\n",
            "    Synonyms: ['disprove', 'prove false', 'prove wrong', 'prove to be false', 'prove to be wrong']\n",
            "              ----------------------\n",
            "\u001b[1mEXACERBATE\u001b[0m (verb) - Make (a problem, bad situation, or negative feeling) worse.\n",
            "    EXAMPLE: the exorbitant cost of land in urban areas only \u001b[92mexacerbate\u001b[0md the problem\n",
            "    Synonyms: ['aggravate', 'make worse', 'worsen', 'inflame', 'compound']\n",
            "              ----------------------\n",
            "\u001b[4m\u001b[1mMAKE YOUR SENTENCE:\u001b[0m\n",
            "Type here --> Done\n",
            "Your score is 0\n",
            "\n",
            "\n",
            "      ****************************************************************************\n",
            "      Your total results:\n",
            "\\0/\\0/\\0/-Your Practice Results Have Been Uploaded!-\\0/\\0/\\0/\n",
            "Thanks for playing DDawg\n"
          ],
          "name": "stdout"
        }
      ]
    },
    {
      "cell_type": "code",
      "metadata": {
        "id": "D0nqlOtVarow",
        "colab_type": "code",
        "colab": {}
      },
      "source": [
        ""
      ],
      "execution_count": 0,
      "outputs": []
    }
  ]
}